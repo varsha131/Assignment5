{
 "cells": [
  {
   "cell_type": "code",
   "execution_count": null,
   "metadata": {},
   "outputs": [],
   "source": [
    "import math\n",
    "\n",
    "print(math.sin(math.pi/3))\n",
    "\n",
    "print(math.cos(math.pi))\n",
    "\n",
    "print(math.tan(math.pi/2)) \n",
    "\n",
    "print(math.sin(0.8660254037844386))\n",
    "\n",
    "print(math.pow(5, 8))\n",
    "\n",
    "print(math.sqrt(400))\n",
    "\n",
    "print(math.exp(5))\n",
    "\n",
    "print(math.log2(1024))\n",
    "\n",
    "print(math.log10(1024))\n",
    "\n",
    "print(math.floor(23.56),math.ceil(23.56))\n"
   ]
  }
 ],
 "metadata": {
  "kernelspec": {
   "display_name": "Python 3",
   "language": "python",
   "name": "python3"
  },
  "language_info": {
   "codemirror_mode": {
    "name": "ipython",
    "version": 3
   },
   "file_extension": ".py",
   "mimetype": "text/x-python",
   "name": "python",
   "nbconvert_exporter": "python",
   "pygments_lexer": "ipython3",
   "version": "3.8.2"
  }
 },
 "nbformat": 4,
 "nbformat_minor": 4
}
